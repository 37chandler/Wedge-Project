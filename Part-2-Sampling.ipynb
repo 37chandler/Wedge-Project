{
 "cells": [
  {
   "cell_type": "code",
   "execution_count": 4,
   "metadata": {},
   "outputs": [],
   "source": [
    "import os\n",
    "import pandas as pd\n",
    "from google.cloud import bigquery\n",
    "from google.oauth2 import service_account\n",
    "import pandas_gbq"
   ]
  },
  {
   "cell_type": "code",
   "execution_count": 2,
   "metadata": {},
   "outputs": [
    {
     "name": "stdout",
     "output_type": "stream",
     "text": [
      "umt-msba:dram_shop\n",
      "umt-msba:transactions\n",
      "umt-msba:wedge_example\n",
      "umt-msba:wedge_transactions\n"
     ]
    }
   ],
   "source": [
    "# Name Credentials \n",
    "service_path = \"\"\n",
    "service_file = 'wedge-project-key.json'   \n",
    "\n",
    "gbq_proj_id = 'wedge-project-403915'  \n",
    "\n",
    "# And this should stay the same. \n",
    "private_key = service_path + service_file\n",
    "\n",
    "# Now we pass in our credentials so that Python has permission to access our project.\n",
    "credentials = service_account.Credentials.from_service_account_file(private_key)\n",
    "\n",
    "# And finally we establish our connection\n",
    "client = bigquery.Client(credentials = credentials, project=gbq_proj_id)\n",
    "for item in client.list_datasets() : \n",
    "    print(item.full_dataset_id)\n"
   ]
  },
  {
   "cell_type": "code",
   "execution_count": 9,
   "metadata": {},
   "outputs": [
    {
     "name": "stdout",
     "output_type": "stream",
     "text": [
      "Downloading: 100%|\u001b[32m██████████\u001b[0m|\n"
     ]
    }
   ],
   "source": [
    "\n",
    "# Your SQL query\n",
    "query = \"\"\"\n",
    "WITH rand_cte AS (\n",
    "    SELECT DISTINCT card_no\n",
    "    FROM `umt-msba.transactions.transArchive_*` \n",
    "    WHERE card_no != 3\n",
    "    ORDER BY RAND()\n",
    "    LIMIT 500\n",
    ")\n",
    "SELECT *\n",
    "FROM `umt-msba.transactions.transArchive_*` AS trans\n",
    "JOIN rand_cte\n",
    "ON rand_cte.card_no = trans.card_no\n",
    "\"\"\"\n",
    "\n",
    "holder1 = pandas_gbq.read_gbq(query, project_id= gbq_proj_id, credentials = credentials)\n"
   ]
  },
  {
   "cell_type": "code",
   "execution_count": 11,
   "metadata": {},
   "outputs": [],
   "source": [
    "\n",
    "\n",
    "# Save the DataFrame to a local file (e.g., CSV)\n",
    "holder1.to_csv('query_results.csv', index=False)"
   ]
  }
 ],
 "metadata": {
  "kernelspec": {
   "display_name": "Python 3",
   "language": "python",
   "name": "python3"
  },
  "language_info": {
   "codemirror_mode": {
    "name": "ipython",
    "version": 3
   },
   "file_extension": ".py",
   "mimetype": "text/x-python",
   "name": "python",
   "nbconvert_exporter": "python",
   "pygments_lexer": "ipython3",
   "version": "3.11.6"
  }
 },
 "nbformat": 4,
 "nbformat_minor": 2
}
