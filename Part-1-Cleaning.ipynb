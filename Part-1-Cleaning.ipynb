{
 "cells": [
  {
   "cell_type": "code",
   "execution_count": 1,
   "metadata": {},
   "outputs": [],
   "source": [
    "#CLEAN\n",
    "\n",
    "import pandas as pd\n",
    "import os\n",
    "import numpy as np"
   ]
  },
  {
   "cell_type": "code",
   "execution_count": 2,
   "metadata": {},
   "outputs": [],
   "source": [
    "directory_path = \"C:/Users/james/OneDrive/Documents/ADA/Wedge_Project/Wedge-Project/wedge-data/wedge-raw-trans-data/raw_data\""
   ]
  },
  {
   "cell_type": "code",
   "execution_count": 48,
   "metadata": {},
   "outputs": [],
   "source": [
    "schema = {\n",
    "    \"datetime\": \"datetime64[ns]\",\n",
    "    \"register_no\": \"object\",\n",
    "    \"emp_no\": \"object\",\n",
    "    \"trans_no\": \"object\",\n",
    "    \"upc\": \"object\",  # Equivalent to STRING in BigQuery\n",
    "    \"description\": \"object\",\n",
    "    \"trans_type\": \"object\",\n",
    "    \"trans_subtype\": \"object\",\n",
    "    \"trans_status\": \"object\",\n",
    "    \"department\": \"object\",\n",
    "    \"quantity\": \"object\",\n",
    "    \"Scale\": \"object\",\n",
    "    \"cost\": \"object\",\n",
    "    \"unitPrice\": \"object\",\n",
    "    \"total\": \"object\",\n",
    "    \"regPrice\": \"object\",\n",
    "    \"altPrice\": \"object\",\n",
    "    \"tax\": \"object\",\n",
    "    \"taxexempt\": \"object\",\n",
    "    \"foodstamp\": \"object\",\n",
    "    \"wicable\": \"object\",\n",
    "    \"discount\": \"object\",\n",
    "    \"memDiscount\": \"object\",\n",
    "    \"discountable\": \"object\",\n",
    "    \"discounttype\": \"object\",\n",
    "    \"voided\": \"object\",\n",
    "    \"percentDiscount\": \"object\",\n",
    "    \"ItemQtty\": \"object\",\n",
    "    \"volDiscType\": \"object\",\n",
    "    \"volume\": \"object\",\n",
    "    \"VolSpecial\": \"object\",\n",
    "    \"mixMatch\": \"object\",\n",
    "    \"matched\": \"object\",\n",
    "    \"memType\": \"object\",\n",
    "    \"staff\": \"object\",\n",
    "    \"numflag\": \"object\",\n",
    "    \"itemstatus\": \"object\",\n",
    "    \"tenderstatus\": \"object\",\n",
    "    \"charflag\": \"object\",\n",
    "    \"varflag\": \"object\",\n",
    "    \"batchHeaderID\": \"object\",\n",
    "    \"local\": \"object\",\n",
    "    \"organic\": \"object\",\n",
    "    \"display\": \"object\",\n",
    "    \"receipt\": \"object\",\n",
    "    \"card_no\": \"object\",\n",
    "    \"store\": \"object\",\n",
    "    \"branch\": \"object\",\n",
    "    \"match_id\": \"object\",\n",
    "    \"trans_id\": \"object\"\n",
    "}"
   ]
  },
  {
   "cell_type": "code",
   "execution_count": 52,
   "metadata": {},
   "outputs": [],
   "source": [
    "def clean_data(file_path, delimiter=',', schema=None):\n",
    "    r\"\"\"\n",
    "    Cleans the provided CSV file based on specified transformations.\n",
    "    Specifically, it converts \"\\N\", \"\\\\N\", and \"NULL\" to the string \"null\".\n",
    "    It also formats 'datetime' column to the specified format.\n",
    "    \n",
    "    :param file_path: Path to the CSV file.\n",
    "    :param delimiter: Delimiter used in the CSV file. Defaults to comma.\n",
    "    :param schema: Optional schema to apply to DataFrame columns.\n",
    "    :return: Cleaned DataFrame.\n",
    "    \"\"\"\n",
    "\n",
    "    # Read the CSV file into a DataFrame\n",
    "    df = pd.read_csv(file_path, delimiter=delimiter, encoding='utf-8', low_memory=False)\n",
    "\n",
    "    # Apply replacements for string columns based on schema\n",
    "    if schema:\n",
    "        for column, dtype in schema.items():\n",
    "            if dtype == 'object':\n",
    "                df[column].replace({r\"\\\\N\": \"null\", r\"\\\\\\\\N\":\"null\", \"NULL\": \"null\", r'^\\s*$': \"null\", \"\": \"null\"}, regex=True, inplace=True)\n",
    "\n",
    "    # Format datetime column if it exists\n",
    "    if 'datetime' in df.columns:\n",
    "        df['datetime'] = pd.to_datetime(df['datetime'], format='%m/%d/%Y %H:%M', errors='coerce')\n",
    "        df['datetime'] = df['datetime'].dt.strftime('%Y-%m-%d %H:%M:%S')\n",
    "\n",
    "    return df"
   ]
  },
  {
   "cell_type": "code",
   "execution_count": 55,
   "metadata": {},
   "outputs": [],
   "source": [
    "\n",
    "def process_directory(directory_path):\n",
    "    \"\"\"\n",
    "    Processes all CSV files in a given directory, cleans them and saves the cleaned files.\n",
    "    \n",
    "    :param directory_path: Path to the directory containing CSV files.\n",
    "    \"\"\"\n",
    "    for filename in os.listdir(directory_path):\n",
    "        if filename.endswith('.csv'):\n",
    "            file_path = os.path.join(directory_path, filename)\n",
    "            \n",
    "            # Detecting the delimiter (either comma or semicolon)\n",
    "            with open(file_path, 'r') as file:\n",
    "                first_line = file.readline()\n",
    "                delimiter = ';' if ';' in first_line else ','\n",
    "\n",
    "            # Clean the data\n",
    "            cleaned_df = clean_data(file_path, delimiter)\n",
    "\n",
    "            # Saving the cleaned data\n",
    "            cleaned_filename = filename.replace('.csv', '_clean.csv')\n",
    "            cleaned_df.to_csv(os.path.join(directory_path, cleaned_filename), index=False)\n",
    "            print(f\"Cleaned and saved: {cleaned_filename}\")\n",
    "\n",
    "\n",
    "# Remember to specify the path to the directory containing your CSV files.\n",
    "# The script will process each file, clean it according to the rules, and save the cleaned version."
   ]
  },
  {
   "cell_type": "code",
   "execution_count": 56,
   "metadata": {},
   "outputs": [
    {
     "name": "stdout",
     "output_type": "stream",
     "text": [
      "Cleaned and saved: transArchive_201510_clean.csv\n",
      "Cleaned and saved: transArchive_201511_clean.csv\n",
      "Cleaned and saved: transArchive_201512_clean.csv\n",
      "Cleaned and saved: transArchive_201601_clean.csv\n",
      "Cleaned and saved: transArchive_201601_clean_clean.csv\n"
     ]
    },
    {
     "ename": "KeyboardInterrupt",
     "evalue": "",
     "output_type": "error",
     "traceback": [
      "\u001b[1;31m---------------------------------------------------------------------------\u001b[0m",
      "\u001b[1;31mKeyboardInterrupt\u001b[0m                         Traceback (most recent call last)",
      "\u001b[1;32mc:\\Users\\james\\OneDrive\\Documents\\ADA\\Wedge_Project\\Wedge-Project\\Part-1-Cleaning.ipynb Cell 6\u001b[0m line \u001b[0;36m1\n\u001b[1;32m----> <a href='vscode-notebook-cell:/c%3A/Users/james/OneDrive/Documents/ADA/Wedge_Project/Wedge-Project/Part-1-Cleaning.ipynb#W5sZmlsZQ%3D%3D?line=0'>1</a>\u001b[0m process_directory(directory_path)\n",
      "\u001b[1;32mc:\\Users\\james\\OneDrive\\Documents\\ADA\\Wedge_Project\\Wedge-Project\\Part-1-Cleaning.ipynb Cell 6\u001b[0m line \u001b[0;36m2\n\u001b[0;32m     <a href='vscode-notebook-cell:/c%3A/Users/james/OneDrive/Documents/ADA/Wedge_Project/Wedge-Project/Part-1-Cleaning.ipynb#W5sZmlsZQ%3D%3D?line=18'>19</a>\u001b[0m \u001b[39m# Saving the cleaned data\u001b[39;00m\n\u001b[0;32m     <a href='vscode-notebook-cell:/c%3A/Users/james/OneDrive/Documents/ADA/Wedge_Project/Wedge-Project/Part-1-Cleaning.ipynb#W5sZmlsZQ%3D%3D?line=19'>20</a>\u001b[0m cleaned_filename \u001b[39m=\u001b[39m filename\u001b[39m.\u001b[39mreplace(\u001b[39m'\u001b[39m\u001b[39m.csv\u001b[39m\u001b[39m'\u001b[39m, \u001b[39m'\u001b[39m\u001b[39m_clean.csv\u001b[39m\u001b[39m'\u001b[39m)\n\u001b[1;32m---> <a href='vscode-notebook-cell:/c%3A/Users/james/OneDrive/Documents/ADA/Wedge_Project/Wedge-Project/Part-1-Cleaning.ipynb#W5sZmlsZQ%3D%3D?line=20'>21</a>\u001b[0m cleaned_df\u001b[39m.\u001b[39;49mto_csv(os\u001b[39m.\u001b[39;49mpath\u001b[39m.\u001b[39;49mjoin(directory_path, cleaned_filename), index\u001b[39m=\u001b[39;49m\u001b[39mFalse\u001b[39;49;00m)\n\u001b[0;32m     <a href='vscode-notebook-cell:/c%3A/Users/james/OneDrive/Documents/ADA/Wedge_Project/Wedge-Project/Part-1-Cleaning.ipynb#W5sZmlsZQ%3D%3D?line=21'>22</a>\u001b[0m \u001b[39mprint\u001b[39m(\u001b[39mf\u001b[39m\u001b[39m\"\u001b[39m\u001b[39mCleaned and saved: \u001b[39m\u001b[39m{\u001b[39;00mcleaned_filename\u001b[39m}\u001b[39;00m\u001b[39m\"\u001b[39m)\n",
      "File \u001b[1;32m~\\AppData\\Local\\Packages\\PythonSoftwareFoundation.Python.3.11_qbz5n2kfra8p0\\LocalCache\\local-packages\\Python311\\site-packages\\pandas\\core\\generic.py:3902\u001b[0m, in \u001b[0;36mNDFrame.to_csv\u001b[1;34m(self, path_or_buf, sep, na_rep, float_format, columns, header, index, index_label, mode, encoding, compression, quoting, quotechar, lineterminator, chunksize, date_format, doublequote, escapechar, decimal, errors, storage_options)\u001b[0m\n\u001b[0;32m   3891\u001b[0m df \u001b[39m=\u001b[39m \u001b[39mself\u001b[39m \u001b[39mif\u001b[39;00m \u001b[39misinstance\u001b[39m(\u001b[39mself\u001b[39m, ABCDataFrame) \u001b[39melse\u001b[39;00m \u001b[39mself\u001b[39m\u001b[39m.\u001b[39mto_frame()\n\u001b[0;32m   3893\u001b[0m formatter \u001b[39m=\u001b[39m DataFrameFormatter(\n\u001b[0;32m   3894\u001b[0m     frame\u001b[39m=\u001b[39mdf,\n\u001b[0;32m   3895\u001b[0m     header\u001b[39m=\u001b[39mheader,\n\u001b[1;32m   (...)\u001b[0m\n\u001b[0;32m   3899\u001b[0m     decimal\u001b[39m=\u001b[39mdecimal,\n\u001b[0;32m   3900\u001b[0m )\n\u001b[1;32m-> 3902\u001b[0m \u001b[39mreturn\u001b[39;00m DataFrameRenderer(formatter)\u001b[39m.\u001b[39;49mto_csv(\n\u001b[0;32m   3903\u001b[0m     path_or_buf,\n\u001b[0;32m   3904\u001b[0m     lineterminator\u001b[39m=\u001b[39;49mlineterminator,\n\u001b[0;32m   3905\u001b[0m     sep\u001b[39m=\u001b[39;49msep,\n\u001b[0;32m   3906\u001b[0m     encoding\u001b[39m=\u001b[39;49mencoding,\n\u001b[0;32m   3907\u001b[0m     errors\u001b[39m=\u001b[39;49merrors,\n\u001b[0;32m   3908\u001b[0m     compression\u001b[39m=\u001b[39;49mcompression,\n\u001b[0;32m   3909\u001b[0m     quoting\u001b[39m=\u001b[39;49mquoting,\n\u001b[0;32m   3910\u001b[0m     columns\u001b[39m=\u001b[39;49mcolumns,\n\u001b[0;32m   3911\u001b[0m     index_label\u001b[39m=\u001b[39;49mindex_label,\n\u001b[0;32m   3912\u001b[0m     mode\u001b[39m=\u001b[39;49mmode,\n\u001b[0;32m   3913\u001b[0m     chunksize\u001b[39m=\u001b[39;49mchunksize,\n\u001b[0;32m   3914\u001b[0m     quotechar\u001b[39m=\u001b[39;49mquotechar,\n\u001b[0;32m   3915\u001b[0m     date_format\u001b[39m=\u001b[39;49mdate_format,\n\u001b[0;32m   3916\u001b[0m     doublequote\u001b[39m=\u001b[39;49mdoublequote,\n\u001b[0;32m   3917\u001b[0m     escapechar\u001b[39m=\u001b[39;49mescapechar,\n\u001b[0;32m   3918\u001b[0m     storage_options\u001b[39m=\u001b[39;49mstorage_options,\n\u001b[0;32m   3919\u001b[0m )\n",
      "File \u001b[1;32m~\\AppData\\Local\\Packages\\PythonSoftwareFoundation.Python.3.11_qbz5n2kfra8p0\\LocalCache\\local-packages\\Python311\\site-packages\\pandas\\io\\formats\\format.py:1152\u001b[0m, in \u001b[0;36mDataFrameRenderer.to_csv\u001b[1;34m(self, path_or_buf, encoding, sep, columns, index_label, mode, compression, quoting, quotechar, lineterminator, chunksize, date_format, doublequote, escapechar, errors, storage_options)\u001b[0m\n\u001b[0;32m   1131\u001b[0m     created_buffer \u001b[39m=\u001b[39m \u001b[39mFalse\u001b[39;00m\n\u001b[0;32m   1133\u001b[0m csv_formatter \u001b[39m=\u001b[39m CSVFormatter(\n\u001b[0;32m   1134\u001b[0m     path_or_buf\u001b[39m=\u001b[39mpath_or_buf,\n\u001b[0;32m   1135\u001b[0m     lineterminator\u001b[39m=\u001b[39mlineterminator,\n\u001b[1;32m   (...)\u001b[0m\n\u001b[0;32m   1150\u001b[0m     formatter\u001b[39m=\u001b[39m\u001b[39mself\u001b[39m\u001b[39m.\u001b[39mfmt,\n\u001b[0;32m   1151\u001b[0m )\n\u001b[1;32m-> 1152\u001b[0m csv_formatter\u001b[39m.\u001b[39;49msave()\n\u001b[0;32m   1154\u001b[0m \u001b[39mif\u001b[39;00m created_buffer:\n\u001b[0;32m   1155\u001b[0m     \u001b[39massert\u001b[39;00m \u001b[39misinstance\u001b[39m(path_or_buf, StringIO)\n",
      "File \u001b[1;32m~\\AppData\\Local\\Packages\\PythonSoftwareFoundation.Python.3.11_qbz5n2kfra8p0\\LocalCache\\local-packages\\Python311\\site-packages\\pandas\\io\\formats\\csvs.py:266\u001b[0m, in \u001b[0;36mCSVFormatter.save\u001b[1;34m(self)\u001b[0m\n\u001b[0;32m    247\u001b[0m \u001b[39mwith\u001b[39;00m get_handle(\n\u001b[0;32m    248\u001b[0m     \u001b[39mself\u001b[39m\u001b[39m.\u001b[39mfilepath_or_buffer,\n\u001b[0;32m    249\u001b[0m     \u001b[39mself\u001b[39m\u001b[39m.\u001b[39mmode,\n\u001b[1;32m   (...)\u001b[0m\n\u001b[0;32m    254\u001b[0m ) \u001b[39mas\u001b[39;00m handles:\n\u001b[0;32m    255\u001b[0m     \u001b[39m# Note: self.encoding is irrelevant here\u001b[39;00m\n\u001b[0;32m    256\u001b[0m     \u001b[39mself\u001b[39m\u001b[39m.\u001b[39mwriter \u001b[39m=\u001b[39m csvlib\u001b[39m.\u001b[39mwriter(\n\u001b[0;32m    257\u001b[0m         handles\u001b[39m.\u001b[39mhandle,\n\u001b[0;32m    258\u001b[0m         lineterminator\u001b[39m=\u001b[39m\u001b[39mself\u001b[39m\u001b[39m.\u001b[39mlineterminator,\n\u001b[1;32m   (...)\u001b[0m\n\u001b[0;32m    263\u001b[0m         quotechar\u001b[39m=\u001b[39m\u001b[39mself\u001b[39m\u001b[39m.\u001b[39mquotechar,\n\u001b[0;32m    264\u001b[0m     )\n\u001b[1;32m--> 266\u001b[0m     \u001b[39mself\u001b[39;49m\u001b[39m.\u001b[39;49m_save()\n",
      "File \u001b[1;32m~\\AppData\\Local\\Packages\\PythonSoftwareFoundation.Python.3.11_qbz5n2kfra8p0\\LocalCache\\local-packages\\Python311\\site-packages\\pandas\\io\\formats\\csvs.py:271\u001b[0m, in \u001b[0;36mCSVFormatter._save\u001b[1;34m(self)\u001b[0m\n\u001b[0;32m    269\u001b[0m \u001b[39mif\u001b[39;00m \u001b[39mself\u001b[39m\u001b[39m.\u001b[39m_need_to_save_header:\n\u001b[0;32m    270\u001b[0m     \u001b[39mself\u001b[39m\u001b[39m.\u001b[39m_save_header()\n\u001b[1;32m--> 271\u001b[0m \u001b[39mself\u001b[39;49m\u001b[39m.\u001b[39;49m_save_body()\n",
      "File \u001b[1;32m~\\AppData\\Local\\Packages\\PythonSoftwareFoundation.Python.3.11_qbz5n2kfra8p0\\LocalCache\\local-packages\\Python311\\site-packages\\pandas\\io\\formats\\csvs.py:309\u001b[0m, in \u001b[0;36mCSVFormatter._save_body\u001b[1;34m(self)\u001b[0m\n\u001b[0;32m    307\u001b[0m \u001b[39mif\u001b[39;00m start_i \u001b[39m>\u001b[39m\u001b[39m=\u001b[39m end_i:\n\u001b[0;32m    308\u001b[0m     \u001b[39mbreak\u001b[39;00m\n\u001b[1;32m--> 309\u001b[0m \u001b[39mself\u001b[39;49m\u001b[39m.\u001b[39;49m_save_chunk(start_i, end_i)\n",
      "File \u001b[1;32m~\\AppData\\Local\\Packages\\PythonSoftwareFoundation.Python.3.11_qbz5n2kfra8p0\\LocalCache\\local-packages\\Python311\\site-packages\\pandas\\io\\formats\\csvs.py:316\u001b[0m, in \u001b[0;36mCSVFormatter._save_chunk\u001b[1;34m(self, start_i, end_i)\u001b[0m\n\u001b[0;32m    313\u001b[0m slicer \u001b[39m=\u001b[39m \u001b[39mslice\u001b[39m(start_i, end_i)\n\u001b[0;32m    314\u001b[0m df \u001b[39m=\u001b[39m \u001b[39mself\u001b[39m\u001b[39m.\u001b[39mobj\u001b[39m.\u001b[39miloc[slicer]\n\u001b[1;32m--> 316\u001b[0m res \u001b[39m=\u001b[39m df\u001b[39m.\u001b[39;49m_mgr\u001b[39m.\u001b[39;49mto_native_types(\u001b[39m*\u001b[39;49m\u001b[39m*\u001b[39;49m\u001b[39mself\u001b[39;49m\u001b[39m.\u001b[39;49m_number_format)\n\u001b[0;32m    317\u001b[0m data \u001b[39m=\u001b[39m [res\u001b[39m.\u001b[39miget_values(i) \u001b[39mfor\u001b[39;00m i \u001b[39min\u001b[39;00m \u001b[39mrange\u001b[39m(\u001b[39mlen\u001b[39m(res\u001b[39m.\u001b[39mitems))]\n\u001b[0;32m    319\u001b[0m ix \u001b[39m=\u001b[39m \u001b[39mself\u001b[39m\u001b[39m.\u001b[39mdata_index[slicer]\u001b[39m.\u001b[39m_format_native_types(\u001b[39m*\u001b[39m\u001b[39m*\u001b[39m\u001b[39mself\u001b[39m\u001b[39m.\u001b[39m_number_format)\n",
      "File \u001b[1;32m~\\AppData\\Local\\Packages\\PythonSoftwareFoundation.Python.3.11_qbz5n2kfra8p0\\LocalCache\\local-packages\\Python311\\site-packages\\pandas\\core\\internals\\managers.py:438\u001b[0m, in \u001b[0;36mBaseBlockManager.to_native_types\u001b[1;34m(self, **kwargs)\u001b[0m\n\u001b[0;32m    433\u001b[0m \u001b[39mdef\u001b[39;00m \u001b[39mto_native_types\u001b[39m(\u001b[39mself\u001b[39m, \u001b[39m*\u001b[39m\u001b[39m*\u001b[39mkwargs) \u001b[39m-\u001b[39m\u001b[39m>\u001b[39m Self:\n\u001b[0;32m    434\u001b[0m \u001b[39m    \u001b[39m\u001b[39m\"\"\"\u001b[39;00m\n\u001b[0;32m    435\u001b[0m \u001b[39m    Convert values to native types (strings / python objects) that are used\u001b[39;00m\n\u001b[0;32m    436\u001b[0m \u001b[39m    in formatting (repr / csv).\u001b[39;00m\n\u001b[0;32m    437\u001b[0m \u001b[39m    \"\"\"\u001b[39;00m\n\u001b[1;32m--> 438\u001b[0m     \u001b[39mreturn\u001b[39;00m \u001b[39mself\u001b[39;49m\u001b[39m.\u001b[39;49mapply(\u001b[39m\"\u001b[39;49m\u001b[39mto_native_types\u001b[39;49m\u001b[39m\"\u001b[39;49m, \u001b[39m*\u001b[39;49m\u001b[39m*\u001b[39;49mkwargs)\n",
      "File \u001b[1;32m~\\AppData\\Local\\Packages\\PythonSoftwareFoundation.Python.3.11_qbz5n2kfra8p0\\LocalCache\\local-packages\\Python311\\site-packages\\pandas\\core\\internals\\managers.py:354\u001b[0m, in \u001b[0;36mBaseBlockManager.apply\u001b[1;34m(self, f, align_keys, **kwargs)\u001b[0m\n\u001b[0;32m    352\u001b[0m         applied \u001b[39m=\u001b[39m b\u001b[39m.\u001b[39mapply(f, \u001b[39m*\u001b[39m\u001b[39m*\u001b[39mkwargs)\n\u001b[0;32m    353\u001b[0m     \u001b[39melse\u001b[39;00m:\n\u001b[1;32m--> 354\u001b[0m         applied \u001b[39m=\u001b[39m \u001b[39mgetattr\u001b[39;49m(b, f)(\u001b[39m*\u001b[39;49m\u001b[39m*\u001b[39;49mkwargs)\n\u001b[0;32m    355\u001b[0m     result_blocks \u001b[39m=\u001b[39m extend_blocks(applied, result_blocks)\n\u001b[0;32m    357\u001b[0m out \u001b[39m=\u001b[39m \u001b[39mtype\u001b[39m(\u001b[39mself\u001b[39m)\u001b[39m.\u001b[39mfrom_blocks(result_blocks, \u001b[39mself\u001b[39m\u001b[39m.\u001b[39maxes)\n",
      "File \u001b[1;32m~\\AppData\\Local\\Packages\\PythonSoftwareFoundation.Python.3.11_qbz5n2kfra8p0\\LocalCache\\local-packages\\Python311\\site-packages\\pandas\\core\\internals\\blocks.py:636\u001b[0m, in \u001b[0;36mBlock.to_native_types\u001b[1;34m(self, na_rep, quoting, **kwargs)\u001b[0m\n\u001b[0;32m    633\u001b[0m \u001b[39m@final\u001b[39m\n\u001b[0;32m    634\u001b[0m \u001b[39mdef\u001b[39;00m \u001b[39mto_native_types\u001b[39m(\u001b[39mself\u001b[39m, na_rep: \u001b[39mstr\u001b[39m \u001b[39m=\u001b[39m \u001b[39m\"\u001b[39m\u001b[39mnan\u001b[39m\u001b[39m\"\u001b[39m, quoting\u001b[39m=\u001b[39m\u001b[39mNone\u001b[39;00m, \u001b[39m*\u001b[39m\u001b[39m*\u001b[39mkwargs) \u001b[39m-\u001b[39m\u001b[39m>\u001b[39m Block:\n\u001b[0;32m    635\u001b[0m \u001b[39m    \u001b[39m\u001b[39m\"\"\"convert to our native types format\"\"\"\u001b[39;00m\n\u001b[1;32m--> 636\u001b[0m     result \u001b[39m=\u001b[39m to_native_types(\u001b[39mself\u001b[39;49m\u001b[39m.\u001b[39;49mvalues, na_rep\u001b[39m=\u001b[39;49mna_rep, quoting\u001b[39m=\u001b[39;49mquoting, \u001b[39m*\u001b[39;49m\u001b[39m*\u001b[39;49mkwargs)\n\u001b[0;32m    637\u001b[0m     \u001b[39mreturn\u001b[39;00m \u001b[39mself\u001b[39m\u001b[39m.\u001b[39mmake_block(result)\n",
      "File \u001b[1;32m~\\AppData\\Local\\Packages\\PythonSoftwareFoundation.Python.3.11_qbz5n2kfra8p0\\LocalCache\\local-packages\\Python311\\site-packages\\pandas\\core\\internals\\blocks.py:2537\u001b[0m, in \u001b[0;36mto_native_types\u001b[1;34m(values, na_rep, quoting, float_format, decimal, **kwargs)\u001b[0m\n\u001b[0;32m   2532\u001b[0m \u001b[39melif\u001b[39;00m values\u001b[39m.\u001b[39mdtype\u001b[39m.\u001b[39mkind \u001b[39m==\u001b[39m \u001b[39m\"\u001b[39m\u001b[39mf\u001b[39m\u001b[39m\"\u001b[39m \u001b[39mand\u001b[39;00m \u001b[39mnot\u001b[39;00m \u001b[39misinstance\u001b[39m(values\u001b[39m.\u001b[39mdtype, SparseDtype):\n\u001b[0;32m   2533\u001b[0m     \u001b[39m# see GH#13418: no special formatting is desired at the\u001b[39;00m\n\u001b[0;32m   2534\u001b[0m     \u001b[39m# output (important for appropriate 'quoting' behaviour),\u001b[39;00m\n\u001b[0;32m   2535\u001b[0m     \u001b[39m# so do not pass it through the FloatArrayFormatter\u001b[39;00m\n\u001b[0;32m   2536\u001b[0m     \u001b[39mif\u001b[39;00m float_format \u001b[39mis\u001b[39;00m \u001b[39mNone\u001b[39;00m \u001b[39mand\u001b[39;00m decimal \u001b[39m==\u001b[39m \u001b[39m\"\u001b[39m\u001b[39m.\u001b[39m\u001b[39m\"\u001b[39m:\n\u001b[1;32m-> 2537\u001b[0m         mask \u001b[39m=\u001b[39m isna(values)\n\u001b[0;32m   2539\u001b[0m         \u001b[39mif\u001b[39;00m \u001b[39mnot\u001b[39;00m quoting:\n\u001b[0;32m   2540\u001b[0m             values \u001b[39m=\u001b[39m values\u001b[39m.\u001b[39mastype(\u001b[39mstr\u001b[39m)\n",
      "File \u001b[1;32m~\\AppData\\Local\\Packages\\PythonSoftwareFoundation.Python.3.11_qbz5n2kfra8p0\\LocalCache\\local-packages\\Python311\\site-packages\\pandas\\core\\dtypes\\missing.py:178\u001b[0m, in \u001b[0;36misna\u001b[1;34m(obj)\u001b[0m\n\u001b[0;32m    101\u001b[0m \u001b[39mdef\u001b[39;00m \u001b[39misna\u001b[39m(obj: \u001b[39mobject\u001b[39m) \u001b[39m-\u001b[39m\u001b[39m>\u001b[39m \u001b[39mbool\u001b[39m \u001b[39m|\u001b[39m npt\u001b[39m.\u001b[39mNDArray[np\u001b[39m.\u001b[39mbool_] \u001b[39m|\u001b[39m NDFrame:\n\u001b[0;32m    102\u001b[0m \u001b[39m    \u001b[39m\u001b[39m\"\"\"\u001b[39;00m\n\u001b[0;32m    103\u001b[0m \u001b[39m    Detect missing values for an array-like object.\u001b[39;00m\n\u001b[0;32m    104\u001b[0m \n\u001b[1;32m   (...)\u001b[0m\n\u001b[0;32m    176\u001b[0m \u001b[39m    Name: 1, dtype: bool\u001b[39;00m\n\u001b[0;32m    177\u001b[0m \u001b[39m    \"\"\"\u001b[39;00m\n\u001b[1;32m--> 178\u001b[0m     \u001b[39mreturn\u001b[39;00m _isna(obj)\n",
      "File \u001b[1;32m~\\AppData\\Local\\Packages\\PythonSoftwareFoundation.Python.3.11_qbz5n2kfra8p0\\LocalCache\\local-packages\\Python311\\site-packages\\pandas\\core\\dtypes\\missing.py:207\u001b[0m, in \u001b[0;36m_isna\u001b[1;34m(obj, inf_as_na)\u001b[0m\n\u001b[0;32m    205\u001b[0m     \u001b[39mreturn\u001b[39;00m \u001b[39mFalse\u001b[39;00m\n\u001b[0;32m    206\u001b[0m \u001b[39melif\u001b[39;00m \u001b[39misinstance\u001b[39m(obj, (np\u001b[39m.\u001b[39mndarray, ABCExtensionArray)):\n\u001b[1;32m--> 207\u001b[0m     \u001b[39mreturn\u001b[39;00m _isna_array(obj, inf_as_na\u001b[39m=\u001b[39;49minf_as_na)\n\u001b[0;32m    208\u001b[0m \u001b[39melif\u001b[39;00m \u001b[39misinstance\u001b[39m(obj, ABCIndex):\n\u001b[0;32m    209\u001b[0m     \u001b[39m# Try to use cached isna, which also short-circuits for integer dtypes\u001b[39;00m\n\u001b[0;32m    210\u001b[0m     \u001b[39m#  and avoids materializing RangeIndex._values\u001b[39;00m\n\u001b[0;32m    211\u001b[0m     \u001b[39mif\u001b[39;00m \u001b[39mnot\u001b[39;00m obj\u001b[39m.\u001b[39m_can_hold_na:\n",
      "File \u001b[1;32m~\\AppData\\Local\\Packages\\PythonSoftwareFoundation.Python.3.11_qbz5n2kfra8p0\\LocalCache\\local-packages\\Python311\\site-packages\\pandas\\core\\dtypes\\missing.py:300\u001b[0m, in \u001b[0;36m_isna_array\u001b[1;34m(values, inf_as_na)\u001b[0m\n\u001b[0;32m    298\u001b[0m         result \u001b[39m=\u001b[39m \u001b[39m~\u001b[39mnp\u001b[39m.\u001b[39misfinite(values)\n\u001b[0;32m    299\u001b[0m     \u001b[39melse\u001b[39;00m:\n\u001b[1;32m--> 300\u001b[0m         result \u001b[39m=\u001b[39m np\u001b[39m.\u001b[39;49misnan(values)\n\u001b[0;32m    302\u001b[0m \u001b[39mreturn\u001b[39;00m result\n",
      "\u001b[1;31mKeyboardInterrupt\u001b[0m: "
     ]
    }
   ],
   "source": [
    "process_directory(directory_path)"
   ]
  }
 ],
 "metadata": {
  "kernelspec": {
   "display_name": "Python 3",
   "language": "python",
   "name": "python3"
  },
  "language_info": {
   "codemirror_mode": {
    "name": "ipython",
    "version": 3
   },
   "file_extension": ".py",
   "mimetype": "text/x-python",
   "name": "python",
   "nbconvert_exporter": "python",
   "pygments_lexer": "ipython3",
   "version": "3.11.6"
  }
 },
 "nbformat": 4,
 "nbformat_minor": 2
}
